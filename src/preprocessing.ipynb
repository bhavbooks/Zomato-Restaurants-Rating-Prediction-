{
 "cells": [
  {
   "cell_type": "markdown",
   "id": "fcde193b",
   "metadata": {},
   "source": [
    "# Data PreProcessing"
   ]
  },
  {
   "cell_type": "code",
   "execution_count": 260,
   "id": "20899f1f",
   "metadata": {},
   "outputs": [],
   "source": [
    "import sys\n",
    "sys.path.append('/Users/mac/Desktop/Desktop_Files/Projects/Zomato Restaurant Rating Prediction')\n"
   ]
  },
  {
   "cell_type": "code",
   "execution_count": 261,
   "id": "e4ef4c1a",
   "metadata": {},
   "outputs": [],
   "source": [
    "# Prevent WARNINGS!\n",
    "import warnings\n",
    "warnings.filterwarnings('ignore')"
   ]
  },
  {
   "cell_type": "code",
   "execution_count": 262,
   "id": "ecb97d29",
   "metadata": {},
   "outputs": [],
   "source": [
    "import numpy as np\n",
    "import pandas as pd\n",
    "import matplotlib.pyplot as plt\n",
    "%matplotlib inline\n",
    "import seaborn as sns\n",
    "from utility.utils import analyze_corr, convert_cat\n",
    "import scipy.stats as stats\n",
    "from scipy.stats import zscore\n"
   ]
  },
  {
   "cell_type": "code",
   "execution_count": 263,
   "id": "800c8253",
   "metadata": {},
   "outputs": [],
   "source": [
    "## laoding the dataset (EDA_final_cleaned.pkl)\n",
    "import joblib\n",
    "df = joblib.load(\"../artifacts/EDA_final_cleaned.pkl\")"
   ]
  },
  {
   "cell_type": "code",
   "execution_count": 264,
   "id": "6369c4f1",
   "metadata": {},
   "outputs": [
    {
     "data": {
      "text/html": [
       "<div>\n",
       "<style scoped>\n",
       "    .dataframe tbody tr th:only-of-type {\n",
       "        vertical-align: middle;\n",
       "    }\n",
       "\n",
       "    .dataframe tbody tr th {\n",
       "        vertical-align: top;\n",
       "    }\n",
       "\n",
       "    .dataframe thead th {\n",
       "        text-align: right;\n",
       "    }\n",
       "</style>\n",
       "<table border=\"1\" class=\"dataframe\">\n",
       "  <thead>\n",
       "    <tr style=\"text-align: right;\">\n",
       "      <th></th>\n",
       "      <th>url</th>\n",
       "      <th>address</th>\n",
       "      <th>name</th>\n",
       "      <th>online_order</th>\n",
       "      <th>book_table</th>\n",
       "      <th>rate</th>\n",
       "      <th>votes</th>\n",
       "      <th>phone</th>\n",
       "      <th>location</th>\n",
       "      <th>rest_type</th>\n",
       "      <th>dish_liked</th>\n",
       "      <th>cuisines</th>\n",
       "      <th>approx_cost</th>\n",
       "      <th>reviews_list</th>\n",
       "      <th>menu_item</th>\n",
       "      <th>type</th>\n",
       "      <th>city</th>\n",
       "      <th>rating_group</th>\n",
       "      <th>cuisines_list</th>\n",
       "    </tr>\n",
       "  </thead>\n",
       "  <tbody>\n",
       "    <tr>\n",
       "      <th>0</th>\n",
       "      <td>https://www.zomato.com/bangalore/jalsa-banasha...</td>\n",
       "      <td>942, 21st Main Road, 2nd Stage, Banashankari, ...</td>\n",
       "      <td>Jalsa</td>\n",
       "      <td>1</td>\n",
       "      <td>1</td>\n",
       "      <td>4.1</td>\n",
       "      <td>775</td>\n",
       "      <td>080 42297555\\r\\n+91 9743772233</td>\n",
       "      <td>Banashankari</td>\n",
       "      <td>Casual Dining</td>\n",
       "      <td>Pasta, Lunch Buffet, Masala Papad, Paneer Laja...</td>\n",
       "      <td>North Indian, Mughlai, Chinese</td>\n",
       "      <td>800</td>\n",
       "      <td>[('Rated 4.0', 'RATED\\n  A beautiful place to ...</td>\n",
       "      <td>[]</td>\n",
       "      <td>Buffet</td>\n",
       "      <td>Banashankari</td>\n",
       "      <td>3 to 4.2</td>\n",
       "      <td>[North Indian, Mughlai, Chinese]</td>\n",
       "    </tr>\n",
       "    <tr>\n",
       "      <th>1</th>\n",
       "      <td>https://www.zomato.com/bangalore/spice-elephan...</td>\n",
       "      <td>2nd Floor, 80 Feet Road, Near Big Bazaar, 6th ...</td>\n",
       "      <td>Spice Elephant</td>\n",
       "      <td>1</td>\n",
       "      <td>0</td>\n",
       "      <td>4.1</td>\n",
       "      <td>787</td>\n",
       "      <td>080 41714161</td>\n",
       "      <td>Banashankari</td>\n",
       "      <td>Casual Dining</td>\n",
       "      <td>Momos, Lunch Buffet, Chocolate Nirvana, Thai G...</td>\n",
       "      <td>Chinese, North Indian, Thai</td>\n",
       "      <td>800</td>\n",
       "      <td>[('Rated 4.0', 'RATED\\n  Had been here for din...</td>\n",
       "      <td>[]</td>\n",
       "      <td>Buffet</td>\n",
       "      <td>Banashankari</td>\n",
       "      <td>3 to 4.2</td>\n",
       "      <td>[Chinese, North Indian, Thai]</td>\n",
       "    </tr>\n",
       "  </tbody>\n",
       "</table>\n",
       "</div>"
      ],
      "text/plain": [
       "                                                 url  \\\n",
       "0  https://www.zomato.com/bangalore/jalsa-banasha...   \n",
       "1  https://www.zomato.com/bangalore/spice-elephan...   \n",
       "\n",
       "                                             address            name  \\\n",
       "0  942, 21st Main Road, 2nd Stage, Banashankari, ...           Jalsa   \n",
       "1  2nd Floor, 80 Feet Road, Near Big Bazaar, 6th ...  Spice Elephant   \n",
       "\n",
       "   online_order  book_table  rate  votes                           phone  \\\n",
       "0             1           1   4.1    775  080 42297555\\r\\n+91 9743772233   \n",
       "1             1           0   4.1    787                    080 41714161   \n",
       "\n",
       "       location      rest_type  \\\n",
       "0  Banashankari  Casual Dining   \n",
       "1  Banashankari  Casual Dining   \n",
       "\n",
       "                                          dish_liked  \\\n",
       "0  Pasta, Lunch Buffet, Masala Papad, Paneer Laja...   \n",
       "1  Momos, Lunch Buffet, Chocolate Nirvana, Thai G...   \n",
       "\n",
       "                         cuisines  approx_cost  \\\n",
       "0  North Indian, Mughlai, Chinese          800   \n",
       "1     Chinese, North Indian, Thai          800   \n",
       "\n",
       "                                        reviews_list menu_item    type  \\\n",
       "0  [('Rated 4.0', 'RATED\\n  A beautiful place to ...        []  Buffet   \n",
       "1  [('Rated 4.0', 'RATED\\n  Had been here for din...        []  Buffet   \n",
       "\n",
       "           city rating_group                     cuisines_list  \n",
       "0  Banashankari     3 to 4.2  [North Indian, Mughlai, Chinese]  \n",
       "1  Banashankari     3 to 4.2     [Chinese, North Indian, Thai]  "
      ]
     },
     "execution_count": 264,
     "metadata": {},
     "output_type": "execute_result"
    }
   ],
   "source": [
    "df.head(2)"
   ]
  },
  {
   "cell_type": "markdown",
   "id": "01a37dfe",
   "metadata": {},
   "source": [
    "#### Categorical Conversion"
   ]
  },
  {
   "cell_type": "code",
   "execution_count": 265,
   "id": "c1416e9c",
   "metadata": {},
   "outputs": [],
   "source": [
    "## dropping cuisine column as it is not categorical->\n",
    "df = df.drop(columns=['cuisines'], axis=1)"
   ]
  },
  {
   "cell_type": "markdown",
   "id": "217e286d",
   "metadata": {},
   "source": [
    "Note-> The dtype will still be int because we are also puttin integer codes for those categoricla columns \n",
    "- u can check the utils.py file having convert_cat fucntion with .cat.codes feature in it."
   ]
  },
  {
   "cell_type": "code",
   "execution_count": 266,
   "id": "9da911f5",
   "metadata": {},
   "outputs": [],
   "source": [
    "## converting  columns to category dtype\n",
    "col_list = ['online_order', 'book_table', 'location', 'rest_type', 'type', 'city']\n",
    "df = convert_cat(df, col_list)\n"
   ]
  },
  {
   "cell_type": "code",
   "execution_count": 267,
   "id": "4c343dd9",
   "metadata": {},
   "outputs": [
    {
     "name": "stdout",
     "output_type": "stream",
     "text": [
      "<class 'pandas.core.frame.DataFrame'>\n",
      "RangeIndex: 41665 entries, 0 to 41664\n",
      "Data columns (total 6 columns):\n",
      " #   Column        Non-Null Count  Dtype\n",
      "---  ------        --------------  -----\n",
      " 0   online_order  41665 non-null  int8 \n",
      " 1   book_table    41665 non-null  int8 \n",
      " 2   location      41665 non-null  int8 \n",
      " 3   rest_type     41665 non-null  int8 \n",
      " 4   type          41665 non-null  int8 \n",
      " 5   city          41665 non-null  int8 \n",
      "dtypes: int8(6)\n",
      "memory usage: 244.3 KB\n"
     ]
    }
   ],
   "source": [
    "df[col_list].info()"
   ]
  },
  {
   "cell_type": "code",
   "execution_count": 268,
   "id": "e25c2417",
   "metadata": {},
   "outputs": [
    {
     "data": {
      "text/plain": [
       "1136     200\n",
       "8740     600\n",
       "1854     200\n",
       "21786    600\n",
       "12316    150\n",
       "Name: approx_cost, dtype: int64"
      ]
     },
     "execution_count": 268,
     "metadata": {},
     "output_type": "execute_result"
    }
   ],
   "source": [
    "df['approx_cost'].sample(5)"
   ]
  },
  {
   "cell_type": "markdown",
   "id": "bd6ec3fa",
   "metadata": {},
   "source": [
    "### Outliers Detection->"
   ]
  },
  {
   "cell_type": "code",
   "execution_count": 269,
   "id": "015c175d",
   "metadata": {},
   "outputs": [],
   "source": [
    "## Function to check for outliers using IQR method\n",
    "def check_outliers(df, col):\n",
    "    s = df[col]   ## selecting the series (column)\n",
    "\n",
    "    # calculatin both quartiles\n",
    "    q1, q3 = s.quantile([0.25, 0.75])\n",
    "    iqr = q3 - q1\n",
    "\n",
    "    # bounds\n",
    "    lower_bound, upper_bound = q1 - 1.5 * iqr, q3 + 1.5 * iqr\n",
    "\n",
    "    # Vectorized checks for outliers\n",
    "    has_lower = (s < lower_bound).any()\n",
    "    has_upper = (s > upper_bound).any()\n",
    "\n",
    "    # Print summary\n",
    "    print(f\"IQR: {iqr}\")\n",
    "    print(f\"Lower cutoff: {lower_bound}\")\n",
    "    print(f\"Upper cutoff: {upper_bound}\\n\")\n",
    "\n",
    "    print(\"Lower Side:\", \"Outliers present 🚩\" if has_lower else \"No outliers ✅\")\n",
    "    print(\"Upper Side:\", \"Outliers present 🚩\" if has_upper else \"No outliers ✅\")\n",
    "\n",
    "\n"
   ]
  },
  {
   "cell_type": "code",
   "execution_count": 270,
   "id": "5ad8e1f3",
   "metadata": {},
   "outputs": [
    {
     "name": "stdout",
     "output_type": "stream",
     "text": [
      "IQR: 300.0\n",
      "Lower cutoff: -250.0\n",
      "Upper cutoff: 950.0\n",
      "\n",
      "Lower Side: No outliers ✅\n",
      "Upper Side: No outliers ✅\n"
     ]
    }
   ],
   "source": [
    "check_outliers(df, 'approx_cost')"
   ]
  },
  {
   "cell_type": "markdown",
   "id": "bde95532",
   "metadata": {},
   "source": [
    "- Fortunately, our data has no outliers for \"approx_cost\" column\n",
    "\n",
    "Let's check for all other columns->"
   ]
  },
  {
   "cell_type": "code",
   "execution_count": 271,
   "id": "3918f093",
   "metadata": {},
   "outputs": [],
   "source": [
    "#df.head(2)"
   ]
  },
  {
   "cell_type": "code",
   "execution_count": 272,
   "id": "c6cb64b2",
   "metadata": {},
   "outputs": [],
   "source": [
    "# online_order \n",
    "# check_outliers(df, 'online_order' ) # obv no outliers bcz categorical"
   ]
  },
  {
   "cell_type": "code",
   "execution_count": 273,
   "id": "3b6d5328",
   "metadata": {},
   "outputs": [],
   "source": [
    "## check_outliers(df, 'rate' )"
   ]
  },
  {
   "cell_type": "markdown",
   "id": "c3a89fb1",
   "metadata": {},
   "source": [
    "### Outlier Detection in DataFrame Columns->"
   ]
  },
  {
   "cell_type": "code",
   "execution_count": 274,
   "id": "2781ce9c",
   "metadata": {},
   "outputs": [
    {
     "name": "stdout",
     "output_type": "stream",
     "text": [
      "Checking outliers for column: rate\n",
      "IQR: 0.6000000000000001\n",
      "Lower cutoff: 2.5\n",
      "Upper cutoff: 4.9\n",
      "\n",
      "Lower Side: Outliers present 🚩\n",
      "Upper Side: No outliers ✅\n",
      "----------------------------------------\n",
      "Checking outliers for column: votes\n",
      "IQR: 255.0\n",
      "Lower cutoff: -361.5\n",
      "Upper cutoff: 658.5\n",
      "\n",
      "Lower Side: No outliers ✅\n",
      "Upper Side: Outliers present 🚩\n",
      "----------------------------------------\n",
      "Checking outliers for column: approx_cost\n",
      "IQR: 300.0\n",
      "Lower cutoff: -250.0\n",
      "Upper cutoff: 950.0\n",
      "\n",
      "Lower Side: No outliers ✅\n",
      "Upper Side: No outliers ✅\n",
      "----------------------------------------\n"
     ]
    }
   ],
   "source": [
    "for col in df.columns:\n",
    "    if df[col].dtype in ['int64', 'float64']:\n",
    "        print(f\"Checking outliers for column: {col}\")\n",
    "        check_outliers(df, col)\n",
    "        print(\"-\" * 40)"
   ]
  },
  {
   "cell_type": "markdown",
   "id": "5c61a98d",
   "metadata": {},
   "source": [
    "- \"rate\" and \"votes\" column has Outliers\n",
    "\n",
    "### Let's verify it using visuals;"
   ]
  },
  {
   "cell_type": "code",
   "execution_count": 275,
   "id": "730c8d9e",
   "metadata": {},
   "outputs": [],
   "source": [
    "# Separating Numerical & Categorical columns\n",
    "categorical_columns = df.select_dtypes(include=['object']).columns\n",
    "numerical_columns = df.select_dtypes(include=['int64']).columns\n",
    "# \n",
    "# print(f\"We have {len(categorical_columns)} categorical columns in our dataframe\")\n",
    "# print('Categorical columns are: ',categorical_columns)\n",
    "# print('\\n')\n",
    "# print(\"We have {} numerical columns in our dataframe\".format(len(numerical_columns)))\n",
    "# print('Numerical_columns are: ',numerical_columns)"
   ]
  },
  {
   "cell_type": "code",
   "execution_count": 276,
   "id": "86d4dd7e",
   "metadata": {},
   "outputs": [],
   "source": [
    "# # Identifying the outliers present in numerical columns using boxplot\n",
    "# plt.figure(figsize=(10,10))\n",
    "# plotnumber=1\n",
    "# for col in numerical_columns:\n",
    "#     if plotnumber<=4:\n",
    "#         ax=plt.subplot(2,2,plotnumber)                        # too simple plots, updating later (ChatGPT) with better visualizations\n",
    "#         sns.boxplot(x=col, data=df,color='brown')\n",
    "#         plt.xlabel(col,fontsize=12)\n",
    "#     plotnumber+=1\n",
    "# plt.tight_layout()\n"
   ]
  },
  {
   "cell_type": "code",
   "execution_count": 277,
   "id": "aafb710d",
   "metadata": {},
   "outputs": [
    {
     "data": {
      "image/png": "[encoded data removed]",
      "text/plain": [
       "<Figure size 1400x1000 with 2 Axes>"
      ]
     },
     "metadata": {},
     "output_type": "display_data"
    }
   ],
   "source": [
    "sns.set_theme(style=\"whitegrid\", context=\"talk\")\n",
    "\n",
    "# Prepare responsive figure\n",
    "plt.figure(figsize=(14, 10))\n",
    "plot_num = 1\n",
    "palette = sns.color_palette(\"husl\", len(numerical_columns))  # vibrant but balanced colors\n",
    "\n",
    "for col, color in zip(numerical_columns, palette):\n",
    "    if plot_num <= 4:\n",
    "        plt.subplot(2, 2, plot_num)\n",
    "        \n",
    "        # Create a sleek horizontal boxplot with subtle styling\n",
    "        sns.boxplot(\n",
    "            x=df[col],\n",
    "            color=color,\n",
    "            width=0.5,\n",
    "            linewidth=1.5,\n",
    "            fliersize=4,\n",
    "            showmeans=True,\n",
    "            meanprops={\"marker\": \"o\", \"markerfacecolor\": \"black\", \"markersize\": 6},\n",
    "        )\n",
    "        \n",
    "        # Design polish\n",
    "        plt.title(f\"Outlier Detection: {col}\", fontsize=15, weight='bold', pad=10)\n",
    "        plt.xlabel(col, fontsize=12)\n",
    "        plt.ylabel(\"\")\n",
    "        \n",
    "        # Add median annotation\n",
    "        median = df[col].median()\n",
    "        plt.axvline(median, color=\"red\", linestyle=\"--\", lw=1.3, label=f\"Median: {median:.2f}\")\n",
    "        plt.legend(fontsize=9, loc=\"upper right\", frameon=True)\n",
    "        \n",
    "        # Clean look\n",
    "        sns.despine(left=True, bottom=True)\n",
    "        \n",
    "        plot_num += 1\n",
    "\n",
    "plt.tight_layout()\n",
    "plt.suptitle(\"Boxplots of Numerical Features — Outlier Overview\", fontsize=18, weight=\"bold\", y=1.03)\n",
    "plt.savefig('../visualizations/reports/numerical_features_outliers.png', bbox_inches='tight')\n",
    "plt.show()\n"
   ]
  },
  {
   "cell_type": "markdown",
   "id": "f978c4d2",
   "metadata": {},
   "source": [
    "- Clearly, Votes has Outliers on its Upper Bound"
   ]
  },
  {
   "cell_type": "code",
   "execution_count": 278,
   "id": "9e8aeba8",
   "metadata": {},
   "outputs": [
    {
     "data": {
      "text/plain": [
       "(41665, 18)"
      ]
     },
     "execution_count": 278,
     "metadata": {},
     "output_type": "execute_result"
    }
   ],
   "source": [
    "numerical_columns_new = ['votes','approx_cost', \"rate\"]\n",
    "df[numerical_columns_new] = df[numerical_columns_new]\n",
    "old_df_shape = df.shape\n",
    "old_df_shape"
   ]
  },
  {
   "cell_type": "code",
   "execution_count": 279,
   "id": "1721af51",
   "metadata": {},
   "outputs": [],
   "source": [
    "#df.head()"
   ]
  },
  {
   "cell_type": "markdown",
   "id": "3bcab035",
   "metadata": {},
   "source": [
    "### Outlier Treatmnet\n",
    "- Using Z-Score method to handle outliers, "
   ]
  },
  {
   "cell_type": "code",
   "execution_count": 280,
   "id": "b1019be8",
   "metadata": {},
   "outputs": [
    {
     "data": {
      "text/plain": [
       "(40729, 18)"
      ]
     },
     "execution_count": 280,
     "metadata": {},
     "output_type": "execute_result"
    }
   ],
   "source": [
    "# Calculate the z-scores for the specified numerical columns\n",
    "z = np.abs(zscore(df[numerical_columns_new]))\n",
    "\n",
    "# Create a new DataFrame df1 with rows where z-scores are less than 3 for all numerical columns\n",
    "df1 = df[(z < 3).all(axis=1)]\n",
    "new_df_shape = df1.shape\n",
    "new_df_shape"
   ]
  },
  {
   "cell_type": "markdown",
   "id": "02c26add",
   "metadata": {},
   "source": [
    "#### Verifying, \n",
    "- if the outliers have been removed"
   ]
  },
  {
   "cell_type": "code",
   "execution_count": 281,
   "id": "67e60200",
   "metadata": {},
   "outputs": [
    {
     "name": "stdout",
     "output_type": "stream",
     "text": [
      "Checking outliers for column: rate\n",
      "IQR: 0.6000000000000001\n",
      "Lower cutoff: 2.5\n",
      "Upper cutoff: 4.9\n",
      "\n",
      "Lower Side: Outliers present 🚩\n",
      "Upper Side: No outliers ✅\n",
      "----------------------------------------\n",
      "Checking outliers for column: votes\n",
      "IQR: 230.0\n",
      "Lower cutoff: -324.0\n",
      "Upper cutoff: 596.0\n",
      "\n",
      "Lower Side: No outliers ✅\n",
      "Upper Side: Outliers present 🚩\n",
      "----------------------------------------\n",
      "Checking outliers for column: approx_cost\n",
      "IQR: 300.0\n",
      "Lower cutoff: -250.0\n",
      "Upper cutoff: 950.0\n",
      "\n",
      "Lower Side: No outliers ✅\n",
      "Upper Side: No outliers ✅\n",
      "----------------------------------------\n"
     ]
    }
   ],
   "source": [
    "# checkin if outliers are removed or not\n",
    "for col in df1.columns:\n",
    "    if df1[col].dtype in ['int64', 'float64']:\n",
    "        print(f\"Checking outliers for column: {col}\")\n",
    "        check_outliers(df1, col)\n",
    "        print(\"-\" * 40)"
   ]
  },
  {
   "cell_type": "markdown",
   "id": "040c8ef9",
   "metadata": {},
   "source": [
    "### Still it has Outliers, \n",
    "- means, our data must have skewness in them, thatswhy Z-Score couldnt handle outliers here.\n",
    "- Or, maybe bcz of \"rate\" column because ratings can’t go below 0 or above 5, so the mean & SD-based logic doesn’t fit. IQR still found lower outliers (maybe a bunch of 2.5s far below the median). Lets use IQR after viewing Skewness. "
   ]
  },
  {
   "cell_type": "markdown",
   "id": "6c5ad317",
   "metadata": {},
   "source": [
    "#### Dataloss Calculation"
   ]
  },
  {
   "cell_type": "code",
   "execution_count": 282,
   "id": "5b6edf82",
   "metadata": {},
   "outputs": [
    {
     "name": "stdout",
     "output_type": "stream",
     "text": [
      "Dataloss using zscore: 2.25 %\n"
     ]
    }
   ],
   "source": [
    "# checking the data loss for zscore\n",
    "data_loss_zscore = ((old_df_shape[0] - new_df_shape[0]) / old_df_shape[0]) * 100 # data loss in % percentage\n",
    "print('Dataloss using zscore:',np.round(data_loss_zscore,2),\"%\")"
   ]
  },
  {
   "cell_type": "markdown",
   "id": "abfa7f7f",
   "metadata": {},
   "source": [
    "- 2.25%? This is bearable! We will continue our PreProcessing now"
   ]
  },
  {
   "cell_type": "markdown",
   "id": "2b31ede0",
   "metadata": {},
   "source": [
    "## Skewness detection & Treatment"
   ]
  },
  {
   "cell_type": "code",
   "execution_count": 283,
   "id": "6bac1d56",
   "metadata": {},
   "outputs": [
    {
     "data": {
      "text/html": [
       "<div>\n",
       "<style scoped>\n",
       "    .dataframe tbody tr th:only-of-type {\n",
       "        vertical-align: middle;\n",
       "    }\n",
       "\n",
       "    .dataframe tbody tr th {\n",
       "        vertical-align: top;\n",
       "    }\n",
       "\n",
       "    .dataframe thead th {\n",
       "        text-align: right;\n",
       "    }\n",
       "</style>\n",
       "<table border=\"1\" class=\"dataframe\">\n",
       "  <thead>\n",
       "    <tr style=\"text-align: right;\">\n",
       "      <th></th>\n",
       "      <th>votes</th>\n",
       "      <th>approx_cost</th>\n",
       "      <th>rate</th>\n",
       "    </tr>\n",
       "  </thead>\n",
       "  <tbody>\n",
       "    <tr>\n",
       "      <th>0</th>\n",
       "      <td>775</td>\n",
       "      <td>800</td>\n",
       "      <td>4.1</td>\n",
       "    </tr>\n",
       "    <tr>\n",
       "      <th>1</th>\n",
       "      <td>787</td>\n",
       "      <td>800</td>\n",
       "      <td>4.1</td>\n",
       "    </tr>\n",
       "  </tbody>\n",
       "</table>\n",
       "</div>"
      ],
      "text/plain": [
       "   votes  approx_cost  rate\n",
       "0    775          800   4.1\n",
       "1    787          800   4.1"
      ]
     },
     "execution_count": 283,
     "metadata": {},
     "output_type": "execute_result"
    }
   ],
   "source": [
    "## setting df1 as df for further preprocessing and \n",
    "# also selecting only the required columns for modeling\n",
    "df = df1[['votes','approx_cost', \"rate\"]]\n",
    "df.head(2)"
   ]
  },
  {
   "cell_type": "markdown",
   "id": "7e9df437",
   "metadata": {},
   "source": [
    "## Drop Irrelevant Columns->"
   ]
  },
  {
   "cell_type": "markdown",
   "id": "a3747f27",
   "metadata": {},
   "source": [
    "- instead of dropping here we have already selected only required columns above"
   ]
  },
  {
   "cell_type": "code",
   "execution_count": 284,
   "id": "e145c09b",
   "metadata": {},
   "outputs": [],
   "source": [
    "## drop Irrelevant Columns-> \n",
    "# irrelevant_columns = ['url', 'address', 'name', 'phone', 'book_table',] \n",
    "\n",
    "# # instead of dropping here we have already selected only required columns above\n",
    "# df = df.drop(columns=irrelevant_columns, axis=1)\n",
    "# df.head(2)"
   ]
  },
  {
   "cell_type": "code",
   "execution_count": 285,
   "id": "a77a07f8",
   "metadata": {},
   "outputs": [],
   "source": [
    "# ## creating a new column \"Price_Range\" based on the \"approx_cost\" column\n",
    "# df['Price_Range'] = pd.cut(df['approx_cost'], bins=[0, 500, 1000, 1500, 2000, np.inf], labels=['0-500', '500-1000', '1000-1500', '1500-2000', '2000+'])\n",
    "# df.head(2)"
   ]
  },
  {
   "cell_type": "code",
   "execution_count": 286,
   "id": "b8a2fc3f",
   "metadata": {},
   "outputs": [],
   "source": [
    "df['rating'] = df['rate']\n",
    "df = df.drop(columns=['rate'], axis=1)"
   ]
  },
  {
   "cell_type": "code",
   "execution_count": 287,
   "id": "42455f79",
   "metadata": {},
   "outputs": [
    {
     "data": {
      "text/plain": [
       "votes          3.064601\n",
       "approx_cost    0.150623\n",
       "rating        -0.301479\n",
       "dtype: float64"
      ]
     },
     "execution_count": 287,
     "metadata": {},
     "output_type": "execute_result"
    }
   ],
   "source": [
    "df.skew()"
   ]
  },
  {
   "cell_type": "markdown",
   "id": "2ed5efbb",
   "metadata": {},
   "source": [
    "- hmm! But still, Lets Visualize it more for clarity;"
   ]
  },
  {
   "cell_type": "code",
   "execution_count": 288,
   "id": "fe24e2df",
   "metadata": {},
   "outputs": [],
   "source": [
    "numerical_columns = df.select_dtypes(include=['int64', 'float64']).columns"
   ]
  },
  {
   "cell_type": "markdown",
   "id": "aed53b84",
   "metadata": {},
   "source": [
    "### Visualizing Skewness"
   ]
  },
  {
   "cell_type": "code",
   "execution_count": 289,
   "id": "4c567c56",
   "metadata": {},
   "outputs": [],
   "source": [
    "# Visualizing it\n",
    "# plt.figure(figsize=(10,6))\n",
    "# plotnum=1\n",
    "# for col in numerical_columns:\n",
    "#     if plotnum<=5:\n",
    "#         plt.subplot(3,2,plotnum)                  # too simple plots, updating later (ChatGPT) with better visualizations\n",
    "#         sns.distplot(df[col])\n",
    "#         plt.xlabel(col,fontsize=12)\n",
    "#     plotnum+=1\n",
    "# plt.show()"
   ]
  },
  {
   "cell_type": "code",
   "execution_count": 290,
   "id": "78cb9dcc",
   "metadata": {},
   "outputs": [
    {
     "data": {
      "image/png": "[encoded data removed]",
      "text/plain": [
       "<Figure size 1400x800 with 3 Axes>"
      ]
     },
     "metadata": {},
     "output_type": "display_data"
    }
   ],
   "source": [
    "sns.set_theme(style=\"whitegrid\", context=\"talk\")\n",
    "\n",
    "# Create figure canvas\n",
    "plt.figure(figsize=(14, 8))\n",
    "plotnum = 1\n",
    "palette = sns.color_palette(\"coolwarm\", len(numerical_columns))\n",
    "\n",
    "for col, color in zip(numerical_columns, palette):\n",
    "    if plotnum <= 6:  # Limit number of plots\n",
    "        plt.subplot(3, 2, plotnum)\n",
    "        \n",
    "        # Distribution with KDE and transparency for smooth look\n",
    "        sns.histplot(df[col], kde=True, color=color, bins=30, alpha=0.8, edgecolor='white', linewidth=1.2)\n",
    "        \n",
    "        # Add mean and median lines for interpretability\n",
    "        mean_val = df[col].mean()\n",
    "        median_val = df[col].median()\n",
    "        plt.axvline(mean_val, color='blue', linestyle='--', lw=1.5, label=f'Mean: {mean_val:.1f}')\n",
    "        plt.axvline(median_val, color='red', linestyle='-.', lw=1.5, label=f'Median: {median_val:.1f}')\n",
    "        \n",
    "        # Titles and labels\n",
    "        plt.title(f'Distribution of {col}', fontsize=14, weight='bold', pad=15)\n",
    "        plt.xlabel(col, fontsize=12)\n",
    "        plt.ylabel('Frequency', fontsize=10)\n",
    "        plt.legend(frameon=True, fontsize=9, loc='upper right')\n",
    "        \n",
    "        sns.despine(left=True)  # Removes unnecessary borders\n",
    "        \n",
    "        plotnum += 1\n",
    "\n",
    "plt.tight_layout()\n",
    "plt.suptitle(\"Distribution of Numerical Features\", fontsize=18, weight=\"bold\", y=1.02)\n",
    "plt.savefig('../visualizations/reports/numerical_features_distribution.png', bbox_inches='tight')\n",
    "plt.show()\n",
    "\n"
   ]
  },
  {
   "cell_type": "code",
   "execution_count": 295,
   "id": "ae9697f7",
   "metadata": {},
   "outputs": [],
   "source": [
    "## making copy of df for personal curiosity part 🥸\n",
    "df_curiosity = df.copy()"
   ]
  },
  {
   "cell_type": "markdown",
   "id": "4c6ab732",
   "metadata": {},
   "source": [
    "## Treating Skewness \n",
    "### Log Transformation Technique"
   ]
  },
  {
   "cell_type": "markdown",
   "id": "83af575a",
   "metadata": {},
   "source": [
    "- Machine learning algorithms don't like that imbalance because those big numbers dominate the patterns.\n",
    "- So we apply a logarithmic transformation to “compress” those gigantic values"
   ]
  },
  {
   "cell_type": "code",
   "execution_count": 291,
   "id": "9d05160a",
   "metadata": {},
   "outputs": [],
   "source": [
    "# using log transformation to remove skewness from the votes\n",
    "df['votes'] = np.log1p(df['votes']) # log1p is used to handle log(0) issue, making the distribution more normal\n"
   ]
  },
  {
   "cell_type": "markdown",
   "id": "c999b9d9",
   "metadata": {},
   "source": [
    "#### Why not just \"np.log(df['votes']).. \n",
    "- Ans; ( I am wrtitng this for my own information and Learning, will remove later)\n",
    "\n",
    "- Because np.log() doesn’t work if we have zeros!\n",
    "- If there’s even a single 0 in our data, it will crash:\n",
    "- np.log(0) = ❌  \"math error\" (because log(0) = -∞) "
   ]
  },
  {
   "cell_type": "markdown",
   "id": "bb666c4d",
   "metadata": {},
   "source": [
    "- Theory part; \n",
    "\n",
    "log1p is a numpy function that computes log(1 + x).\n",
    "- That’s why we use log1p — a safety version of log\n",
    "np.log1p(x) means log(1 + x) behind the scenes.\n",
    "\n",
    "- So if your value was:\n",
    "\n",
    "0 → log(1 + 0) = 0 (not a problem) but if it was log(0) it was a problem then. \n",
    "\n",
    "5 → log(1 + 5) = log(6)"
   ]
  },
  {
   "cell_type": "markdown",
   "id": "11dd6209",
   "metadata": {},
   "source": [
    "### Handling outliers again,\n",
    "- with the same Z-Score method as we've already fixed the Skewness"
   ]
  },
  {
   "cell_type": "code",
   "execution_count": 293,
   "id": "c3722531",
   "metadata": {},
   "outputs": [
    {
     "data": {
      "text/plain": [
       "(40659, 3)"
      ]
     },
     "execution_count": 293,
     "metadata": {},
     "output_type": "execute_result"
    }
   ],
   "source": [
    "numerical_columns_new = ['votes','approx_cost', \"rating\"]\n",
    "df[numerical_columns_new] = df[numerical_columns_new]\n",
    "z = np.abs(zscore(df[numerical_columns_new]))\n",
    "\n",
    "# Create a new DataFrame df1 with rows where z-scores are less than 3 for all numerical columns\n",
    "df1 = df[(z < 3).all(axis=1)]\n",
    "new_df_shape = df1.shape\n",
    "new_df_shape"
   ]
  },
  {
   "cell_type": "markdown",
   "id": "cd949276",
   "metadata": {},
   "source": [
    "#### Verifying Again->"
   ]
  },
  {
   "cell_type": "code",
   "execution_count": 294,
   "id": "66abbb16",
   "metadata": {},
   "outputs": [
    {
     "name": "stdout",
     "output_type": "stream",
     "text": [
      "Checking outliers for column: votes\n",
      "IQR: 2.4423470353692043\n",
      "Lower cutoff: -0.5724780996954904\n",
      "Upper cutoff: 9.196910041781326\n",
      "\n",
      "Lower Side: No outliers ✅\n",
      "Upper Side: No outliers ✅\n",
      "----------------------------------------\n",
      "Checking outliers for column: approx_cost\n",
      "IQR: 300.0\n",
      "Lower cutoff: -250.0\n",
      "Upper cutoff: 950.0\n",
      "\n",
      "Lower Side: No outliers ✅\n",
      "Upper Side: No outliers ✅\n",
      "----------------------------------------\n",
      "Checking outliers for column: rating\n",
      "IQR: 0.6000000000000001\n",
      "Lower cutoff: 2.5\n",
      "Upper cutoff: 4.9\n",
      "\n",
      "Lower Side: No outliers ✅\n",
      "Upper Side: No outliers ✅\n",
      "----------------------------------------\n"
     ]
    }
   ],
   "source": [
    "# checkin if outliers are removed or not\n",
    "for col in df1.columns:\n",
    "    if df1[col].dtype in ['int64', 'float64']:\n",
    "        print(f\"Checking outliers for column: {col}\")\n",
    "        check_outliers(df1, col)\n",
    "        print(\"-\" * 40)"
   ]
  },
  {
   "cell_type": "markdown",
   "id": "acd36ee7",
   "metadata": {},
   "source": [
    "### Done😏, \n",
    "- Note-> I could've also done the Outlier handling with IQR directly but eventually skewness was needed to be taken care of. So..!"
   ]
  },
  {
   "cell_type": "markdown",
   "id": "d676d20c",
   "metadata": {},
   "source": [
    "### Personal Curiosity->"
   ]
  },
  {
   "cell_type": "markdown",
   "id": "80e7ee28",
   "metadata": {},
   "source": [
    "- lets check if i've done the outlier removal without handling skewness but using IQR method->"
   ]
  },
  {
   "cell_type": "code",
   "execution_count": 297,
   "id": "a44bf857",
   "metadata": {},
   "outputs": [
    {
     "data": {
      "text/plain": [
       "votes          0.202048\n",
       "approx_cost    0.150623\n",
       "rating        -0.301479\n",
       "dtype: float64"
      ]
     },
     "execution_count": 297,
     "metadata": {},
     "output_type": "execute_result"
    }
   ],
   "source": [
    "## I've already made a copy of skewed DF before handling skewness for this personal curiosity part 🥸\n",
    "df_curiosity.skew()"
   ]
  },
  {
   "cell_type": "code",
   "execution_count": 299,
   "id": "dd2fb0dc",
   "metadata": {},
   "outputs": [],
   "source": [
    "def remove_iqr_outliers(df_curiosity, col):\n",
    "    Q1 = df_curiosity[col].quantile(0.25)\n",
    "    Q3 = df_curiosity[col].quantile(0.75)\n",
    "    IQR = Q3 - Q1\n",
    "    lower, upper = Q1 - 1.5*IQR, Q3 + 1.5*IQR\n",
    "    return df_curiosity[(df_curiosity[col] >= lower) & (df_curiosity[col] <= upper)]\n",
    "\n",
    "for col in numerical_columns_new:\n",
    "    df_curiosity_check = remove_iqr_outliers(df_curiosity, col)"
   ]
  },
  {
   "cell_type": "markdown",
   "id": "f385dd60",
   "metadata": {},
   "source": [
    "#### Verifying this too->"
   ]
  },
  {
   "cell_type": "code",
   "execution_count": 300,
   "id": "037b7e22",
   "metadata": {},
   "outputs": [
    {
     "name": "stdout",
     "output_type": "stream",
     "text": [
      "Checking outliers for column: votes\n",
      "IQR: 2.4423470353692043\n",
      "Lower cutoff: -0.5724780996954904\n",
      "Upper cutoff: 9.196910041781326\n",
      "\n",
      "Lower Side: No outliers ✅\n",
      "Upper Side: No outliers ✅\n",
      "----------------------------------------\n",
      "Checking outliers for column: approx_cost\n",
      "IQR: 300.0\n",
      "Lower cutoff: -250.0\n",
      "Upper cutoff: 950.0\n",
      "\n",
      "Lower Side: No outliers ✅\n",
      "Upper Side: No outliers ✅\n",
      "----------------------------------------\n",
      "Checking outliers for column: rating\n",
      "IQR: 0.6000000000000001\n",
      "Lower cutoff: 2.5\n",
      "Upper cutoff: 4.9\n",
      "\n",
      "Lower Side: No outliers ✅\n",
      "Upper Side: No outliers ✅\n",
      "----------------------------------------\n"
     ]
    }
   ],
   "source": [
    "# checkin if outliers are removed or not\n",
    "for col in df_curiosity_check.columns:\n",
    "    if df_curiosity_check[col].dtype in ['int64', 'float64']:\n",
    "        print(f\"Checking outliers for column: {col}\")\n",
    "        check_outliers(df_curiosity_check, col)\n",
    "        print(\"-\" * 40)"
   ]
  },
  {
   "cell_type": "markdown",
   "id": "738660df",
   "metadata": {},
   "source": [
    "### Satisfactionn!!🫡"
   ]
  }
 ],
 "metadata": {
  "kernelspec": {
   "display_name": "zomato_env",
   "language": "python",
   "name": "python3"
  },
  "language_info": {
   "codemirror_mode": {
    "name": "ipython",
    "version": 3
   },
   "file_extension": ".py",
   "mimetype": "text/x-python",
   "name": "python",
   "nbconvert_exporter": "python",
   "pygments_lexer": "ipython3",
   "version": "3.11.13"
  }
 },
 "nbformat": 4,
 "nbformat_minor": 5
}

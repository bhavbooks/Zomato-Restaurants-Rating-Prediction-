{
 "cells": [
  {
   "cell_type": "markdown",
   "id": "fcde193b",
   "metadata": {},
   "source": [
    "# Data PreProcessing"
   ]
  },
  {
   "cell_type": "code",
   "execution_count": 23,
   "id": "20899f1f",
   "metadata": {},
   "outputs": [],
   "source": [
    "import sys\n",
    "sys.path.append('/Users/mac/Desktop/Desktop_Files/Projects/Zomato Restaurant Rating Prediction')\n"
   ]
  },
  {
   "cell_type": "code",
   "execution_count": 25,
   "id": "ecb97d29",
   "metadata": {},
   "outputs": [],
   "source": [
    "import numpy as np\n",
    "import pandas as pd\n",
    "import matplotlib.pyplot as plt\n",
    "%matplotlib inline\n",
    "import seaborn as sns\n",
    "from utility.utils import analyze_corr, convert_cat"
   ]
  },
  {
   "cell_type": "code",
   "execution_count": 16,
   "id": "800c8253",
   "metadata": {},
   "outputs": [],
   "source": [
    "## laoding the dataset (EDA_final_cleaned.pkl)\n",
    "import joblib\n",
    "df = joblib.load(\"../artifacts/EDA_final_cleaned.pkl\")"
   ]
  },
  {
   "cell_type": "code",
   "execution_count": 17,
   "id": "6369c4f1",
   "metadata": {},
   "outputs": [
    {
     "data": {
      "text/html": [
       "<div>\n",
       "<style scoped>\n",
       "    .dataframe tbody tr th:only-of-type {\n",
       "        vertical-align: middle;\n",
       "    }\n",
       "\n",
       "    .dataframe tbody tr th {\n",
       "        vertical-align: top;\n",
       "    }\n",
       "\n",
       "    .dataframe thead th {\n",
       "        text-align: right;\n",
       "    }\n",
       "</style>\n",
       "<table border=\"1\" class=\"dataframe\">\n",
       "  <thead>\n",
       "    <tr style=\"text-align: right;\">\n",
       "      <th></th>\n",
       "      <th>url</th>\n",
       "      <th>address</th>\n",
       "      <th>name</th>\n",
       "      <th>online_order</th>\n",
       "      <th>book_table</th>\n",
       "      <th>rate</th>\n",
       "      <th>votes</th>\n",
       "      <th>phone</th>\n",
       "      <th>location</th>\n",
       "      <th>rest_type</th>\n",
       "      <th>dish_liked</th>\n",
       "      <th>cuisines</th>\n",
       "      <th>approx_cost</th>\n",
       "      <th>reviews_list</th>\n",
       "      <th>menu_item</th>\n",
       "      <th>type</th>\n",
       "      <th>city</th>\n",
       "      <th>rating_group</th>\n",
       "      <th>cuisines_list</th>\n",
       "    </tr>\n",
       "  </thead>\n",
       "  <tbody>\n",
       "    <tr>\n",
       "      <th>0</th>\n",
       "      <td>https://www.zomato.com/bangalore/jalsa-banasha...</td>\n",
       "      <td>942, 21st Main Road, 2nd Stage, Banashankari, ...</td>\n",
       "      <td>Jalsa</td>\n",
       "      <td>1</td>\n",
       "      <td>1</td>\n",
       "      <td>4.1</td>\n",
       "      <td>775</td>\n",
       "      <td>080 42297555\\r\\n+91 9743772233</td>\n",
       "      <td>Banashankari</td>\n",
       "      <td>Casual Dining</td>\n",
       "      <td>Pasta, Lunch Buffet, Masala Papad, Paneer Laja...</td>\n",
       "      <td>North Indian, Mughlai, Chinese</td>\n",
       "      <td>800</td>\n",
       "      <td>[('Rated 4.0', 'RATED\\n  A beautiful place to ...</td>\n",
       "      <td>[]</td>\n",
       "      <td>Buffet</td>\n",
       "      <td>Banashankari</td>\n",
       "      <td>3 to 4.2</td>\n",
       "      <td>[North Indian, Mughlai, Chinese]</td>\n",
       "    </tr>\n",
       "    <tr>\n",
       "      <th>1</th>\n",
       "      <td>https://www.zomato.com/bangalore/spice-elephan...</td>\n",
       "      <td>2nd Floor, 80 Feet Road, Near Big Bazaar, 6th ...</td>\n",
       "      <td>Spice Elephant</td>\n",
       "      <td>1</td>\n",
       "      <td>0</td>\n",
       "      <td>4.1</td>\n",
       "      <td>787</td>\n",
       "      <td>080 41714161</td>\n",
       "      <td>Banashankari</td>\n",
       "      <td>Casual Dining</td>\n",
       "      <td>Momos, Lunch Buffet, Chocolate Nirvana, Thai G...</td>\n",
       "      <td>Chinese, North Indian, Thai</td>\n",
       "      <td>800</td>\n",
       "      <td>[('Rated 4.0', 'RATED\\n  Had been here for din...</td>\n",
       "      <td>[]</td>\n",
       "      <td>Buffet</td>\n",
       "      <td>Banashankari</td>\n",
       "      <td>3 to 4.2</td>\n",
       "      <td>[Chinese, North Indian, Thai]</td>\n",
       "    </tr>\n",
       "  </tbody>\n",
       "</table>\n",
       "</div>"
      ],
      "text/plain": [
       "                                                 url  \\\n",
       "0  https://www.zomato.com/bangalore/jalsa-banasha...   \n",
       "1  https://www.zomato.com/bangalore/spice-elephan...   \n",
       "\n",
       "                                             address            name  \\\n",
       "0  942, 21st Main Road, 2nd Stage, Banashankari, ...           Jalsa   \n",
       "1  2nd Floor, 80 Feet Road, Near Big Bazaar, 6th ...  Spice Elephant   \n",
       "\n",
       "   online_order  book_table  rate  votes                           phone  \\\n",
       "0             1           1   4.1    775  080 42297555\\r\\n+91 9743772233   \n",
       "1             1           0   4.1    787                    080 41714161   \n",
       "\n",
       "       location      rest_type  \\\n",
       "0  Banashankari  Casual Dining   \n",
       "1  Banashankari  Casual Dining   \n",
       "\n",
       "                                          dish_liked  \\\n",
       "0  Pasta, Lunch Buffet, Masala Papad, Paneer Laja...   \n",
       "1  Momos, Lunch Buffet, Chocolate Nirvana, Thai G...   \n",
       "\n",
       "                         cuisines  approx_cost  \\\n",
       "0  North Indian, Mughlai, Chinese          800   \n",
       "1     Chinese, North Indian, Thai          800   \n",
       "\n",
       "                                        reviews_list menu_item    type  \\\n",
       "0  [('Rated 4.0', 'RATED\\n  A beautiful place to ...        []  Buffet   \n",
       "1  [('Rated 4.0', 'RATED\\n  Had been here for din...        []  Buffet   \n",
       "\n",
       "           city rating_group                     cuisines_list  \n",
       "0  Banashankari     3 to 4.2  [North Indian, Mughlai, Chinese]  \n",
       "1  Banashankari     3 to 4.2     [Chinese, North Indian, Thai]  "
      ]
     },
     "execution_count": 17,
     "metadata": {},
     "output_type": "execute_result"
    }
   ],
   "source": [
    "df.head(2)"
   ]
  },
  {
   "cell_type": "markdown",
   "id": "01a37dfe",
   "metadata": {},
   "source": [
    "#### Categorical Conversion"
   ]
  },
  {
   "cell_type": "code",
   "execution_count": 18,
   "id": "c1416e9c",
   "metadata": {},
   "outputs": [],
   "source": [
    "## dropping cuisine column as it is not categorical->\n",
    "df = df.drop(columns=['cuisines'], axis=1)"
   ]
  },
  {
   "cell_type": "markdown",
   "id": "217e286d",
   "metadata": {},
   "source": [
    "Note-> The dtype will still be int because we are also puttin integer codes for those categoricla columns \n",
    "- u can check the utils.py file having convert_cat fucntion with .cat.codes feature in it."
   ]
  },
  {
   "cell_type": "code",
   "execution_count": 19,
   "id": "9da911f5",
   "metadata": {},
   "outputs": [],
   "source": [
    "## converting  columns to category dtype\n",
    "col_list = ['online_order', 'book_table', 'location', 'rest_type', 'type', 'city']\n",
    "df = convert_cat(df, col_list)\n"
   ]
  },
  {
   "cell_type": "code",
   "execution_count": 20,
   "id": "4c343dd9",
   "metadata": {},
   "outputs": [
    {
     "name": "stdout",
     "output_type": "stream",
     "text": [
      "<class 'pandas.core.frame.DataFrame'>\n",
      "RangeIndex: 41665 entries, 0 to 41664\n",
      "Data columns (total 6 columns):\n",
      " #   Column        Non-Null Count  Dtype\n",
      "---  ------        --------------  -----\n",
      " 0   online_order  41665 non-null  int8 \n",
      " 1   book_table    41665 non-null  int8 \n",
      " 2   location      41665 non-null  int8 \n",
      " 3   rest_type     41665 non-null  int8 \n",
      " 4   type          41665 non-null  int8 \n",
      " 5   city          41665 non-null  int8 \n",
      "dtypes: int8(6)\n",
      "memory usage: 244.3 KB\n"
     ]
    }
   ],
   "source": [
    "df[col_list].info()"
   ]
  },
  {
   "cell_type": "code",
   "execution_count": 80,
   "id": "e25c2417",
   "metadata": {},
   "outputs": [
    {
     "data": {
      "text/plain": [
       "22601    350\n",
       "38660    300\n",
       "19545    350\n",
       "23192    400\n",
       "22445    200\n",
       "Name: approx_cost, dtype: int64"
      ]
     },
     "execution_count": 80,
     "metadata": {},
     "output_type": "execute_result"
    }
   ],
   "source": [
    "df['approx_cost'].sample(5)"
   ]
  },
  {
   "cell_type": "markdown",
   "id": "bd6ec3fa",
   "metadata": {},
   "source": [
    "### Outliers Detection->"
   ]
  },
  {
   "cell_type": "code",
   "execution_count": null,
   "id": "015c175d",
   "metadata": {},
   "outputs": [],
   "source": [
    "## Function to check for outliers using IQR method\n",
    "def check_outliers(df, col):\n",
    "    s = df[col]   ## selecting the series (column)\n",
    "\n",
    "    # calculatin both quartiles\n",
    "    q1, q3 = s.quantile([0.25, 0.75])\n",
    "    iqr = q3 - q1\n",
    "\n",
    "    # bounds\n",
    "    lower_bound, upper_bound = q1 - 1.5 * iqr, q3 + 1.5 * iqr\n",
    "\n",
    "    # Vectorized checks for outliers\n",
    "    has_lower = (s < lower_bound).any()\n",
    "    has_upper = (s > upper_bound).any()\n",
    "\n",
    "    # Print summary\n",
    "    print(f\"IQR: {iqr}\")\n",
    "    print(f\"Lower cutoff: {lower_bound}\")\n",
    "    print(f\"Upper cutoff: {upper_bound}\\n\")\n",
    "\n",
    "    print(\"Lower Side:\", \"Outliers present 🚩\" if has_lower else \"No outliers ✅\")\n",
    "    print(\"Upper Side:\", \"Outliers present 🚩\" if has_upper else \"No outliers ✅\")\n",
    "\n",
    "\n"
   ]
  },
  {
   "cell_type": "code",
   "execution_count": 88,
   "id": "5ad8e1f3",
   "metadata": {},
   "outputs": [
    {
     "name": "stdout",
     "output_type": "stream",
     "text": [
      "IQR: 300.0\n",
      "Lower cutoff: -250.0\n",
      "Upper cutoff: 950.0\n",
      "\n",
      "Lower Side: No outliers ✅\n",
      "Upper Side: No outliers ✅\n"
     ]
    }
   ],
   "source": [
    "check_outliers(df, 'approx_cost')"
   ]
  },
  {
   "cell_type": "markdown",
   "id": "bde95532",
   "metadata": {},
   "source": [
    "- Fortunately, our data has no outliers for \"approx_cost\" column\n",
    "\n",
    "Let's check for all other columns->"
   ]
  },
  {
   "cell_type": "code",
   "execution_count": 89,
   "id": "3918f093",
   "metadata": {},
   "outputs": [
    {
     "data": {
      "text/plain": [
       "Index(['url', 'address', 'name', 'online_order', 'book_table', 'rate', 'votes',\n",
       "       'phone', 'location', 'rest_type', 'dish_liked', 'approx_cost',\n",
       "       'reviews_list', 'menu_item', 'type', 'city', 'rating_group',\n",
       "       'cuisines_list'],\n",
       "      dtype='object')"
      ]
     },
     "execution_count": 89,
     "metadata": {},
     "output_type": "execute_result"
    }
   ],
   "source": [
    "df.columns"
   ]
  },
  {
   "cell_type": "code",
   "execution_count": null,
   "id": "c6cb64b2",
   "metadata": {},
   "outputs": [
    {
     "name": "stdout",
     "output_type": "stream",
     "text": [
      "IQR: 1.0\n",
      "Lower cutoff: -1.5\n",
      "Upper cutoff: 2.5\n",
      "\n",
      "Lower Side: No outliers ✅\n",
      "Upper Side: No outliers ✅\n"
     ]
    }
   ],
   "source": [
    "# online_order \n",
    "check_outliers(df, 'online_order' ) # obv no outliers bcz categorical"
   ]
  },
  {
   "cell_type": "code",
   "execution_count": 90,
   "id": "3b6d5328",
   "metadata": {},
   "outputs": [
    {
     "name": "stdout",
     "output_type": "stream",
     "text": [
      "IQR: 0.6000000000000001\n",
      "Lower cutoff: 2.5\n",
      "Upper cutoff: 4.9\n",
      "\n",
      "Lower Side: Outliers present 🚩\n",
      "Upper Side: No outliers ✅\n"
     ]
    }
   ],
   "source": [
    "check_outliers(df, 'rate' )"
   ]
  },
  {
   "cell_type": "code",
   "execution_count": 93,
   "id": "2781ce9c",
   "metadata": {},
   "outputs": [
    {
     "name": "stdout",
     "output_type": "stream",
     "text": [
      "Checking outliers for column: rate\n",
      "IQR: 0.6000000000000001\n",
      "Lower cutoff: 2.5\n",
      "Upper cutoff: 4.9\n",
      "\n",
      "Lower Side: Outliers present 🚩\n",
      "Upper Side: No outliers ✅\n",
      "----------------------------------------\n",
      "Checking outliers for column: votes\n",
      "IQR: 255.0\n",
      "Lower cutoff: -361.5\n",
      "Upper cutoff: 658.5\n",
      "\n",
      "Lower Side: No outliers ✅\n",
      "Upper Side: Outliers present 🚩\n",
      "----------------------------------------\n",
      "Checking outliers for column: approx_cost\n",
      "IQR: 300.0\n",
      "Lower cutoff: -250.0\n",
      "Upper cutoff: 950.0\n",
      "\n",
      "Lower Side: No outliers ✅\n",
      "Upper Side: No outliers ✅\n",
      "----------------------------------------\n"
     ]
    }
   ],
   "source": [
    "for col in df.columns:\n",
    "    if df[col].dtype in ['int64', 'float64']:\n",
    "        print(f\"Checking outliers for column: {col}\")\n",
    "        check_outliers(df, col)\n",
    "        print(\"-\" * 40)"
   ]
  }
 ],
 "metadata": {
  "kernelspec": {
   "display_name": "zomato_env",
   "language": "python",
   "name": "python3"
  },
  "language_info": {
   "codemirror_mode": {
    "name": "ipython",
    "version": 3
   },
   "file_extension": ".py",
   "mimetype": "text/x-python",
   "name": "python",
   "nbconvert_exporter": "python",
   "pygments_lexer": "ipython3",
   "version": "3.11.13"
  }
 },
 "nbformat": 4,
 "nbformat_minor": 5
}
